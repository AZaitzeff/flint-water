{
 "cells": [
  {
   "cell_type": "markdown",
   "metadata": {},
   "source": [
    "<img src=\"http://static1.squarespace.com/static/55d78486e4b038548bc9f33e/t/55ec5931e4b0518639da93c6/1448895140273/?format=1500w\"/>"
   ]
  },
  {
   "cell_type": "markdown",
   "metadata": {},
   "source": [
    "# <center> Predicting The Flint Residential Test Data </center>"
   ]
  },
  {
   "cell_type": "code",
   "execution_count": 1,
   "metadata": {
    "collapsed": true
   },
   "outputs": [],
   "source": [
    "# We will be using pandas and numpy, as usual.\n",
    "\n",
    "import pandas as pd\n",
    "import numpy as np"
   ]
  },
  {
   "cell_type": "code",
   "execution_count": 2,
   "metadata": {
    "collapsed": false
   },
   "outputs": [],
   "source": [
    "# Use pandas to read the residential test data into a DataFrame.\n",
    "test_data_df_ = pd.read_csv('residential_test_data.csv')\n",
    "\n",
    "# Not all columns in the data are useful or easy to work with.\n",
    "# For example, the columns dealing with addresses may be useful for some tasks, but they will\n",
    "# probably not help as much with classification.\n",
    "#\n",
    "# Here is a selection of columns that will build a decent classifier.\n",
    "\n",
    "columns = ['Lead (ppb)', 'Copper (ppb)', 'Property Zip Code','Owner Type', \n",
    "           'Owner State', 'Homestead', 'Homestead Percent', 'HomeSEV','Land Value', 'Land Improvements Value',\n",
    "           'Residential Building Value', 'Residential Building Style','Commercial Building Value',\n",
    "           'Building Storeys', 'Parcel Acres', 'Rental', 'Use Type', 'Prop Class',\n",
    "           'Old Prop class', 'Year Built', 'USPS Vacancy', 'Zoning', 'Future Landuse', 'DRAFT Zone',\n",
    "           'Housing Condition 2012', 'Housing Condition 2014', 'Commercial Condition 2013', 'Latitude',\n",
    "           'Longitude', 'Hydrant Type']\n",
    "\n",
    "# These columns are categorical data and will be turned into dummy variables.\n",
    "\n",
    "dummy_cols = ['Property Zip Code', 'Owner Type', 'Residential Building Style', 'Homestead',\n",
    "              'Building Storeys', 'Rental', 'Use Type', 'Prop Class', 'Old Prop class', 'USPS Vacancy',\n",
    "              'Housing Condition 2012', 'Housing Condition 2014',\n",
    "              'Commercial Condition 2013', 'Hydrant Type']"
   ]
  },
  {
   "cell_type": "code",
   "execution_count": 3,
   "metadata": {
    "collapsed": false
   },
   "outputs": [],
   "source": [
    "# Fill missing data with -1.  Other values may work better.\n",
    "\n",
    "test_data_df_.fillna('-1', inplace=True)"
   ]
  },
  {
   "cell_type": "code",
   "execution_count": 4,
   "metadata": {
    "collapsed": false
   },
   "outputs": [],
   "source": [
    "# Get dummy variables for the categorical data\n",
    "test_data_df = pd.get_dummies(test_data_df_[columns], columns=dummy_cols)\n",
    "\n",
    "# qcut slices a column into a given number of equal partitions.\n",
    "# Here, we split the 'Year Built' column into 6 categories, and then get dummy variables\n",
    "# for each.\n",
    "test_data_df['Year Category'] = pd.qcut(test_data_df['Year Built'], 5)\n",
    "test_data_df = pd.get_dummies(test_data_df,columns=['Year Category'])"
   ]
  },
  {
   "cell_type": "code",
   "execution_count": 5,
   "metadata": {
    "collapsed": false
   },
   "outputs": [],
   "source": [
    "# This is a utility list.  You can use this to modify which columns you include in your\n",
    "# final DataFrame.\n",
    "drop_cols = ['Zoning', 'Future Landuse', 'DRAFT Zone', 'Owner State', 'Year Built',\n",
    "             'Longitude', 'Latitude']\n",
    "\n",
    "# Drop the columns that we don't want.\n",
    "test_data_df.drop(drop_cols, inplace=True, axis=1)"
   ]
  },
  {
   "cell_type": "code",
   "execution_count": 6,
   "metadata": {
    "collapsed": false,
    "scrolled": false
   },
   "outputs": [],
   "source": [
    "# Now that our data is loaded, clean, and ready to go, create numpy arrays to pass\n",
    "# to a classifier.\n",
    "\n",
    "Ydata = (test_data_df['Lead (ppb)'] > 15)\n",
    "Xdata = test_data_df.drop(['Lead (ppb)', 'Copper (ppb)'], axis=1).values"
   ]
  },
  {
   "cell_type": "code",
   "execution_count": 7,
   "metadata": {
    "collapsed": false
   },
   "outputs": [],
   "source": [
    "# Import code for machine learning tasks.\n",
    "# If you do not have xgboost, you may find install it from https://github.com/dmlc/xgboost\n",
    "# If you want to proceed without xgboost, just comment out the lines where it is called.\n",
    "\n",
    "from sklearn.cross_validation import train_test_split\n",
    "import xgboost as xgb\n",
    "from sklearn.linear_model import LogisticRegression\n",
    "from sklearn.ensemble import RandomForestClassifier\n",
    "from sklearn.metrics import roc_auc_score as roc\n",
    "from sklearn.grid_search import GridSearchCV"
   ]
  },
  {
   "cell_type": "code",
   "execution_count": 8,
   "metadata": {
    "collapsed": false
   },
   "outputs": [],
   "source": [
    "# Many parcels have been tested multiple times.  We want to train on a subset of parcel and make predictions\n",
    "# on the remainder.  To that end, we need a list of all parcels.\n",
    "\n",
    "ids = list(set(test_data_df_['PID no Dash']))"
   ]
  },
  {
   "cell_type": "code",
   "execution_count": 26,
   "metadata": {
    "collapsed": false
   },
   "outputs": [],
   "source": [
    "# Train-test split on the ids in a hacky way that isn't great but it works.\n",
    "\n",
    "# Permute a list of indicies that will correspond to parcel identifiers.\n",
    "perm_inds = np.random.permutation(len(ids))\n",
    "\n",
    "# Specify what portion of the data you want for a training set.\n",
    "portion = 0.75\n",
    "\n",
    "# Create a list of training ids and test ids.\n",
    "train_ids = []\n",
    "test_ids = []\n",
    "\n",
    "for index in perm_inds[:int(portion*len(ids))]:\n",
    "    train_ids.append(ids[index])\n",
    "for index in perm_inds[int(portion*len(ids)):]:\n",
    "    test_ids.append(ids[index])\n",
    "\n",
    "\n",
    "# Make a mask of boolean values that will determine which rows\n",
    "# to include in the training set.\n",
    "\n",
    "train_test_mask = np.zeros(len(Xdata)).astype(bool)\n",
    "for i, pid in enumerate(test_data_df_['PID no Dash']):\n",
    "    train_test_mask[i] = pid in train_ids"
   ]
  },
  {
   "cell_type": "code",
   "execution_count": 27,
   "metadata": {
    "collapsed": true
   },
   "outputs": [],
   "source": [
    "# Use the mask we just created to build a training set and a test set.\n",
    "Xtrain = Xdata[train_test_mask, :]\n",
    "Ytrain = Ydata[train_test_mask]\n",
    "Xtest = Xdata[~train_test_mask, :]\n",
    "Ytest = Ydata[~train_test_mask]"
   ]
  },
  {
   "cell_type": "code",
   "execution_count": 28,
   "metadata": {
    "collapsed": true
   },
   "outputs": [],
   "source": [
    "# Now, build several models to predict which parcels will test high for lead.\n",
    "\n",
    "lr = LogisticRegression()\n",
    "rf = RandomForestClassifier(n_estimators=32)\n",
    "\n",
    "# A parmeter dictionary can be useful for searching for better paramters.\n",
    "# I include it here even though it makes it harder to read the code.  It might\n",
    "# come in handy later.\n",
    "\n",
    "param_dict = {'colsample_bytree': 0.75, 'colsample_bylevel': 1, 'nthread': 1,\n",
    "              'n_estimators':32, 'subsample': 1, 'max_depth': 4, 'gamma': 0}\n",
    "xg = xgb.XGBClassifier(colsample_bytree=param_dict['colsample_bytree'], \n",
    "                       colsample_bylevel=param_dict['colsample_bylevel'],\n",
    "                       n_estimators=param_dict['n_estimators'],\n",
    "                       subsample=param_dict['subsample'],\n",
    "                       max_depth=4,\n",
    "                       gamma=param_dict['gamma'])"
   ]
  },
  {
   "cell_type": "code",
   "execution_count": 29,
   "metadata": {
    "collapsed": false
   },
   "outputs": [
    {
     "data": {
      "text/plain": [
       "XGBClassifier(base_score=0.5, colsample_bylevel=1, colsample_bytree=0.75,\n",
       "       gamma=0, learning_rate=0.1, max_delta_step=0, max_depth=4,\n",
       "       min_child_weight=1, missing=None, n_estimators=32, nthread=-1,\n",
       "       objective='binary:logistic', reg_alpha=0, reg_lambda=1,\n",
       "       scale_pos_weight=1, seed=0, silent=True, subsample=1)"
      ]
     },
     "execution_count": 29,
     "metadata": {},
     "output_type": "execute_result"
    }
   ],
   "source": [
    "# Train the models\n",
    "\n",
    "lr.fit(Xtrain, Ytrain)\n",
    "rf.fit(Xtrain, Ytrain)\n",
    "xg.fit(Xtrain, Ytrain)"
   ]
  },
  {
   "cell_type": "code",
   "execution_count": 30,
   "metadata": {
    "collapsed": true
   },
   "outputs": [],
   "source": [
    "# Now get predictions on the test set.\n",
    "\n",
    "yhat1 = lr.predict_proba(Xtest)\n",
    "yhat2 = rf.predict_proba(Xtest)\n",
    "yhat3 = xg.predict_proba(Xtest)"
   ]
  },
  {
   "cell_type": "code",
   "execution_count": 31,
   "metadata": {
    "collapsed": false
   },
   "outputs": [
    {
     "data": {
      "text/plain": [
       "(0.4983036580007878, 0.5879200375723419, 0.57196315486470917)"
      ]
     },
     "execution_count": 31,
     "metadata": {},
     "output_type": "execute_result"
    }
   ],
   "source": [
    "# Measure effectiveness of each classifier.\n",
    "\n",
    "r1 = roc(Ytest, yhat1[:,1]) # Logistic Regression\n",
    "r2 = roc(Ytest, yhat2[:,1]) # Random Forest\n",
    "r3 = roc(Ytest, yhat3[:,1]) # XGBoost\n",
    "\n",
    "r1, r2, r3"
   ]
  },
  {
   "cell_type": "code",
   "execution_count": 32,
   "metadata": {
    "collapsed": false
   },
   "outputs": [
    {
     "data": {
      "image/png": "[encoded data removed]",
      "text/plain": [
       "<matplotlib.figure.Figure at 0x10e05b1d0>"
      ]
     },
     "metadata": {},
     "output_type": "display_data"
    }
   ],
   "source": [
    "# Plot the roc curves for each classifier.\n",
    "\n",
    "%matplotlib inline\n",
    "from sklearn.metrics import roc_curve\n",
    "import matplotlib.pyplot as plt\n",
    "\n",
    "fig = plt.figure()\n",
    "fig.set_size_inches(8,8)\n",
    "\n",
    "fpr, tpr, _ = roc_curve(Ytest, yhat1[:,1])\n",
    "plt.plot(fpr, tpr, label= 'LogReg (area = %0.5f)' % r1)\n",
    "\n",
    "fpr, tpr, _ = roc_curve(Ytest, yhat2[:,1])\n",
    "plt.plot(fpr, tpr, label= 'Random Forest (area = %0.5f)' % r2)\n",
    "\n",
    "fpr, tpr, _ = roc_curve(Ytest, yhat3[:,1])\n",
    "plt.plot(fpr, tpr, label= 'XGBoost (area = %0.5f)' % r3)\n",
    "\n",
    "plt.plot([0, 1], [0, 1], 'k--')\n",
    "plt.xlim([0.0, 1.0])\n",
    "plt.ylim([0.0, 1.05])\n",
    "\n",
    "plt.xlabel('False Positive Rate')\n",
    "plt.ylabel('True Positive Rate')\n",
    "plt.title('ROC Curves for Lead Classifiers')\n",
    "plt.legend(loc=\"lower right\")\n",
    "\n",
    "plt.show()\n",
    "fig.savefig('./figures/roc_curves.png')"
   ]
  },
  {
   "cell_type": "code",
   "execution_count": 35,
   "metadata": {
    "collapsed": false
   },
   "outputs": [
    {
     "name": "stdout",
     "output_type": "stream",
     "text": [
      "Property Zip Code_48506.0\n",
      "Hydrant Type_T.C.\n",
      "Residential Building Style_TWO UNIT\n",
      "Year Category_(1913, 1934]\n",
      "Land Improvements Value\n",
      "Commercial Building Value\n",
      "HomeSEV\n",
      "Parcel Acres\n",
      "Residential Building Value\n",
      "Land Value\n",
      "Property Zip Code_48506.0\n",
      "Hydrant Type_T.C.\n",
      "Residential Building Style_TWO UNIT\n",
      "Year Category_(1913, 1934]\n",
      "Land Improvements Value\n",
      "Commercial Building Value\n",
      "HomeSEV\n",
      "Parcel Acres\n",
      "Residential Building Value\n",
      "Land Value\n"
     ]
    }
   ],
   "source": [
    "# Random Forests and XGBoost have heuristics for determining which\n",
    "# features are the most important.  We print the most important features\n",
    "# here.\n",
    "\n",
    "sort_imps1 = np.argsort(rf.feature_importances_)\n",
    "sort_imps2 = np.argsort(xg.feature_importances_)\n",
    "\n",
    "col_names = test_data_df.drop(['Lead (ppb)', 'Copper (ppb)'], axis=1).columns.tolist()\n",
    "\n",
    "# Print most important features for Random Forest\n",
    "for col in sort_imps2[-10:]:\n",
    "    print(col_names[col])\n",
    "# Print most important features for XGBoost\n",
    "for col in sort_imps2[-10:]:\n",
    "    print(col_names[col])"
   ]
  },
  {
   "cell_type": "code",
   "execution_count": null,
   "metadata": {
    "collapsed": false
   },
   "outputs": [],
   "source": []
  },
  {
   "cell_type": "code",
   "execution_count": null,
   "metadata": {
    "collapsed": false
   },
   "outputs": [],
   "source": []
  },
  {
   "cell_type": "code",
   "execution_count": null,
   "metadata": {
    "collapsed": true
   },
   "outputs": [],
   "source": []
  }
 ],
 "metadata": {
  "kernelspec": {
   "display_name": "Python 3",
   "language": "python",
   "name": "python3"
  },
  "language_info": {
   "codemirror_mode": {
    "name": "ipython",
    "version": 3
   },
   "file_extension": ".py",
   "mimetype": "text/x-python",
   "name": "python",
   "nbconvert_exporter": "python",
   "pygments_lexer": "ipython3",
   "version": "3.5.1"
  }
 },
 "nbformat": 4,
 "nbformat_minor": 0
}
