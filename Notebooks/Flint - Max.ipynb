{
 "cells": [
  {
   "cell_type": "markdown",
   "metadata": {},
   "source": [
    "# Lead Prediction\n",
    "*Author: Max Smith*\n",
    "\n",
    "Cleaned up version of 'Map Predicted Lead Danger,' which will be expanded upon."
   ]
  },
  {
   "cell_type": "code",
   "execution_count": 34,
   "metadata": {
    "collapsed": true
   },
   "outputs": [],
   "source": [
    "%matplotlib inline\n",
    "\n",
    "import numpy as np\n",
    "import pandas as pd\n",
    "import matplotlib.pyplot as plt"
   ]
  },
  {
   "cell_type": "code",
   "execution_count": 35,
   "metadata": {
    "collapsed": true
   },
   "outputs": [],
   "source": [
    "# Constants & Script Parameters\n",
    "RESIDENTIAL_TEST_DATA = \"../../residential_test_data.csv\"\n",
    "PARCEL_GEO_DATA = \"../../parcel_geo_data.tsv\""
   ]
  },
  {
   "cell_type": "markdown",
   "metadata": {},
   "source": [
    "**Goal:** predict lead levels for untested parcels, to determine if action needs to be taken at these locations. A *parcel* is a distinct portion of land."
   ]
  },
  {
   "cell_type": "code",
   "execution_count": 36,
   "metadata": {
    "collapsed": false,
    "scrolled": true
   },
   "outputs": [],
   "source": [
    "parcel_df = pd.read_csv(PARCEL_GEO_DATA, sep='\\t')"
   ]
  },
  {
   "cell_type": "code",
   "execution_count": 37,
   "metadata": {
    "collapsed": true
   },
   "outputs": [],
   "source": [
    "column_titles = ['Property Zip Code','Owner Type', 'Owner State', 'Homestead',\n",
    "                 'Homestead Percent', 'HomeSEV','Land Value', \n",
    "                 'Land Improvements Value', 'Residential Building Value', \n",
    "                 'Residential Building Style','Commercial Building Value',\n",
    "                 'Building Storeys', 'Parcel Acres', 'Rental', 'Use Type', \n",
    "                 'Prop Class', 'Old Prop class', 'Year Built', 'USPS Vacancy',\n",
    "                 'Zoning', 'Future Landuse', 'DRAFT Zone',\n",
    "                 'Housing Condition 2012', 'Housing Condition 2014', \n",
    "                 'Commercial Condition 2013', 'Latitude',\n",
    "                 'Longitude', 'Hydrant Type']\n",
    "\n",
    "to_one_hot_cols = ['Property Zip Code', 'Owner Type', \n",
    "                   'Residential Building Style', 'Homestead', \n",
    "                   'Building Storeys', 'Rental', 'Use Type', 'Prop Class',\n",
    "                   'Old Prop class', 'USPS Vacancy', 'Housing Condition 2012',\n",
    "                   'Housing Condition 2014', 'Commercial Condition 2013',\n",
    "                   'Hydrant Type']\n",
    "\n",
    "to_drop_cols = ['Zoning', 'Future Landuse', 'DRAFT Zone', 'Owner State', \n",
    "                'Latitude', 'Longitude', 'Year Built']\n",
    "\n",
    "label_cols = ['Lead (ppb)', 'Copper (ppb)']"
   ]
  },
  {
   "cell_type": "code",
   "execution_count": 38,
   "metadata": {
    "collapsed": false
   },
   "outputs": [],
   "source": [
    "# Raw training data\n",
    "raw_X_df = pd.read_csv(RESIDENTIAL_TEST_DATA, usecols=column_titles)\n",
    "raw_Y_df = pd.read_csv(RESIDENTIAL_TEST_DATA, usecols=label_cols)"
   ]
  },
  {
   "cell_type": "markdown",
   "metadata": {},
   "source": [
    "### Feature Engineering"
   ]
  },
  {
   "cell_type": "code",
   "execution_count": 39,
   "metadata": {
    "collapsed": false
   },
   "outputs": [],
   "source": [
    "def featureEngineer(input_df):\n",
    "    # Convert categorical values to one-hot\n",
    "    output_df = pd.get_dummies(input_df[column_titles], columns=to_one_hot_cols)\n",
    "\n",
    "    # Bin years\n",
    "    output_df['Year Category'] = pd.cut(input_df['Year Built'],\n",
    "                                        bins=[0,1927,1940,1950,1954,1959,2013])\n",
    "    output_df = pd.get_dummies(output_df, columns=['Year Category'])\n",
    "    \n",
    "    # Drop unused columns\n",
    "    output_df.drop(to_drop_cols, inplace=True, axis=1) # Inplace stops copying\n",
    "    \n",
    "    # Fix issue with typing of 'Homestead Percent'\n",
    "    output_df['Homestead Percent'] = output_df['Homestead Percent'].astype(float)\n",
    "    \n",
    "    return output_df"
   ]
  },
  {
   "cell_type": "code",
   "execution_count": 40,
   "metadata": {
    "collapsed": false
   },
   "outputs": [],
   "source": [
    "# Need to combine test & training data to have consistent modifications\n",
    "\n",
    "\n",
    "# Testing data\n",
    "\n",
    "# We must remove any parcel ids that have already been tested\n",
    "# in the training data, so we don't train on the testing data.\n",
    "train_pids_df = pd.read_csv(RESIDENTIAL_TEST_DATA, usecols=['PID no Dash'])\n",
    "train_pids = set(train_pids_df['PID no Dash'])\n",
    "\n",
    "test_pids_mask = []\n",
    "for pid in parcel_df['PID no Dash'].values:\n",
    "    test_pids_mask.append(pid not in train_pids)\n",
    "    \n",
    "test_X = parcel_df[test_pids_mask].copy()"
   ]
  },
  {
   "cell_type": "code",
   "execution_count": 41,
   "metadata": {
    "collapsed": false
   },
   "outputs": [],
   "source": [
    "train_pids_df = pd.read_csv(RESIDENTIAL_TEST_DATA, usecols=['PID no Dash'])\n",
    "train_pids = set(train_pids_df['PID no Dash'])\n",
    "\n",
    "test_pids_mask = []\n",
    "for pid in parcel_df['PID no Dash'].values:\n",
    "    test_pids_mask.append(pid not in train_pids)\n",
    "    \n",
    "test_X = parcel_df[test_pids_mask].copy()\n",
    "\n",
    "comb_data = raw_X_df.append(test_X)\n",
    "comb_data = featureEngineer(comb_data).values\n",
    "\n",
    "train_X = comb_data[:raw_X_df.shape[0],:]\n",
    "test_X = comb_data[raw_X_df.shape[0]:,:]\n",
    "\n",
    "train_Y = raw_Y_df['Lead (ppb)'] > 15"
   ]
  },
  {
   "cell_type": "markdown",
   "metadata": {},
   "source": [
    "### Data Exploration"
   ]
  },
  {
   "cell_type": "code",
   "execution_count": 48,
   "metadata": {
    "collapsed": false,
    "scrolled": false
   },
   "outputs": [
    {
     "data": {
      "image/png": "[encoded data removed]",
      "text/plain": [
       "<matplotlib.figure.Figure at 0x7f1a509b2fd0>"
      ]
     },
     "metadata": {},
     "output_type": "display_data"
    },
    {
     "data": {
      "text/plain": [
       "array([  6.12911554e+11,   6.00833984e+09,   2.36783698e+09,\n",
       "         1.70070448e+09,   1.15287135e+09,   1.37190971e+03,\n",
       "         9.31124974e+00,   4.70446972e-01,   3.75638510e-01,\n",
       "         3.17526863e-01,   2.74587758e-01,   2.65855135e-01,\n",
       "         2.45495295e-01,   1.97289234e-01,   1.92874581e-01,\n",
       "         1.73883087e-01,   1.68914930e-01,   1.60074272e-01,\n",
       "         1.43024014e-01,   1.39240641e-01,   1.32875744e-01,\n",
       "         1.29842458e-01,   1.22472208e-01,   1.16535659e-01,\n",
       "         9.82430692e-02,   9.32411255e-02,   8.18164180e-02,\n",
       "         6.77858426e-02,   5.12782835e-02,   3.34246889e-02,\n",
       "         3.14429048e-02,   2.82559627e-02,   2.75830584e-02,\n",
       "         2.57763099e-02,   2.14101590e-02,   1.92625613e-02,\n",
       "         1.50000955e-02,   1.35101897e-02,   1.13525698e-02,\n",
       "         1.02489020e-02,   9.08531007e-03,   7.15301065e-03,\n",
       "         6.39780148e-03,   6.16940082e-03,   5.73937278e-03,\n",
       "         4.68200655e-03,   4.60251817e-03,   4.14204377e-03,\n",
       "         3.85601796e-03,   3.72986785e-03,   3.54067587e-03,\n",
       "         3.26547434e-03,   2.98747294e-03,   2.41054878e-03,\n",
       "         1.93514814e-03,   1.80420579e-03,   1.43626312e-03,\n",
       "         1.08062644e-03,   7.74155858e-04,   6.64015551e-04,\n",
       "         4.81551924e-04,   4.00138630e-04,   1.57260023e-04,\n",
       "         1.43594007e-04,   1.14826459e-04,   9.89514991e-05,\n",
       "         7.15174851e-05,   6.42481960e-05,   6.27187782e-05,\n",
       "         5.29527324e-05,   5.70994834e-21,   5.70994834e-21,\n",
       "         5.70994834e-21,   5.70994834e-21,   5.70994834e-21,\n",
       "         5.70994834e-21,   5.70994834e-21,   5.70994834e-21,\n",
       "         5.70994834e-21,   5.70994834e-21,   5.70994834e-21,\n",
       "         5.70994834e-21,   5.70994834e-21,   5.70994834e-21,\n",
       "         5.70994834e-21,   5.70994834e-21,   5.70994834e-21,\n",
       "         5.70994834e-21,   5.70994834e-21,   5.70994834e-21,\n",
       "         5.70994834e-21,   5.70994834e-21,   5.70994834e-21,\n",
       "         5.70994834e-21,   5.70994834e-21,   5.70994834e-21,\n",
       "         5.70994834e-21,   5.70994834e-21,   5.70994834e-21])"
      ]
     },
     "execution_count": 48,
     "metadata": {},
     "output_type": "execute_result"
    }
   ],
   "source": [
    "# PCA\n",
    "from sklearn.decomposition import PCA\n",
    "\n",
    "pca = PCA()\n",
    "pca.fit(train_X)\n",
    "\n",
    "plt.plot(pca.explained_variance_)\n",
    "plt.xlabel(\"Number of Components\")\n",
    "plt.ylabel(\"Explained Variance\")\n",
    "plt.ylim(0, 100)\n",
    "plt.title(\"PCA Explained Ratio of Features\")\n",
    "plt.show()\n",
    "\n",
    "pca.explained_variance_"
   ]
  },
  {
   "cell_type": "markdown",
   "metadata": {},
   "source": [
    "### Cross Validation"
   ]
  },
  {
   "cell_type": "code",
   "execution_count": 57,
   "metadata": {
    "collapsed": false,
    "scrolled": true
   },
   "outputs": [
    {
     "name": "stdout",
     "output_type": "stream",
     "text": [
      "XGBClassifier(base_score=0.5, colsample_bylevel=1, colsample_bytree=0.75,\n",
      "       gamma=0, learning_rate=0.1, max_delta_step=0, max_depth=4,\n",
      "       min_child_weight=1, missing=None, n_estimators=32, nthread=-1,\n",
      "       objective='binary:logistic', reg_alpha=0, reg_lambda=1,\n",
      "       scale_pos_weight=1, seed=42, silent=True, subsample=1)'s AUC: 0.6495679292659493\n"
     ]
    }
   ],
   "source": [
    "from sklearn.metrics import roc_curve, auc\n",
    "\n",
    "from sklearn.cross_validation import KFold\n",
    "\n",
    "import xgboost as xgb\n",
    "\n",
    "model_xgb = xgb.XGBClassifier(colsample_bytree = 0.75,\n",
    "                              colsample_bylevel = 1,\n",
    "                              n_estimators = 32,\n",
    "                              subsample = 1,\n",
    "                              max_depth = 4,\n",
    "                              gamma = 0,\n",
    "                              seed = 42)\n",
    "\n",
    "models = [model_xgb]\n",
    "num_folds = 10\n",
    "\n",
    "kf = KFold(train_X.shape[0], num_folds, shuffle=True)\n",
    "\n",
    "for model in models:\n",
    "    total = 0 # Rename\n",
    "    \n",
    "    for train_i, test_i in kf:\n",
    "        # Get datasets for the fold\n",
    "        train_X_fold = train_X[train_i, :]\n",
    "        train_Y_fold = train_Y[train_i]\n",
    "        \n",
    "        test_X_fold = train_X[test_i, :]\n",
    "        test_Y_fold = train_Y[test_i]\n",
    "\n",
    "        model.fit(train_X_fold, train_Y_fold)\n",
    "        predictions = model.predict_proba(test_X_fold)[:, 1]\n",
    "        fpr, tpr, _ = roc_curve(test_Y_fold, predictions)\n",
    "        total += auc(fpr, tpr)\n",
    "    \n",
    "    accuracy = total / num_folds\n",
    "    print(\"{0}'s AUC: {1}\".format(model, accuracy))\n"
   ]
  },
  {
   "cell_type": "code",
   "execution_count": null,
   "metadata": {
    "collapsed": true
   },
   "outputs": [],
   "source": []
  }
 ],
 "metadata": {
  "kernelspec": {
   "display_name": "Python 3",
   "language": "python",
   "name": "python3"
  },
  "language_info": {
   "codemirror_mode": {
    "name": "ipython",
    "version": 3
   },
   "file_extension": ".py",
   "mimetype": "text/x-python",
   "name": "python",
   "nbconvert_exporter": "python",
   "pygments_lexer": "ipython3",
   "version": "3.5.1"
  }
 },
 "nbformat": 4,
 "nbformat_minor": 0
}
