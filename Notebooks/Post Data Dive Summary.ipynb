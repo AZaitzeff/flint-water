{
 "cells": [
  {
   "cell_type": "markdown",
   "metadata": {},
   "source": [
    "# The Michigan Data Science Team (MDST) Work on the Flint Water Crisis\n",
    "\n",
    "Date: May 3rd 2016\n",
    "\n",
    "## Who helped make this document?\n",
    "\n",
    "(Alphabetically)\n",
    "* Abhilash Narendra\n",
    "* Alex Chojnacki\n",
    "* Anthony Kremin\n",
    "* Arya Farahi\n",
    "* Chengyu Dai\n",
    "* Daniel Zhang\n",
    "* Eric Schwartz (Faculty Advisor) \n",
    "* Filip Jankovic\n",
    "* Guangsha Shi\n",
    "* Jake Abernethy (Faculty Advisor)\n",
    "* Jared Webb\n",
    "* Jingye Liu\n",
    "* John Dryden\n",
    "* Jonathan Stroud\n",
    "* Sean Ma\n",
    "* Wei Lee\n",
    "* Wenbo Shen\n",
    "\n",
    "(Please contact Eric <ericmsch@umich.edu> or Jake <jabernet@umich.edu> for questions!)"
   ]
  },
  {
   "cell_type": "markdown",
   "metadata": {},
   "source": [
    "## Summary Notes\n",
    "\n",
    "There is lead in Flint’s water. And we know that leads to more questions than answers: Where it is? Which homes are most at risk? When will the lead levels decrease?\n",
    "\n",
    "We want to shed light on these questions with data. Using diverse sources of information, we use cutting edge-methods in data science and statistics. \n",
    "\n",
    "The crisis is also one of transparency of information. We’d like to bring the key information to the citizens of Flint as clearly as possible. \n",
    "\n",
    "What we want to do in this short writeup is give some early results that help to understand the lead level readings that are being continuously collected in Flint. We will continue updating this document as results develop. \n",
    "\n",
    "For questions about health and getting obtaining lead test kits your home, visit [the Michigan.gov website](Michigan.gov/flintwater/)."
   ]
  },
  {
   "cell_type": "markdown",
   "metadata": {},
   "source": [
    "## Diverse data sources\n",
    "\n",
    "The figures and data below are based on several datasets.\n",
    "\n",
    "* *Residential Testing data*: Flint residents continue to submit water samples to the Department of Environmental Quality (DEQ), which tests their water and posts results to the Michigan.gov/FlintWater/ website.\n",
    "* *Sentinel Sites Testing data*: Available at [Michigan.gov](http://Michigan.gov/FlintWater/) website. \n",
    "* *Parcel data*: obtained from the City of Flint\n",
    "* *Service Line data*: provided by City of Flint and [UM-Flint GIS Center](https://www.umflint.edu/gis)\n",
    "* *Fire Hydrant data*: provided by City of Flint"
   ]
  },
  {
   "cell_type": "markdown",
   "metadata": {},
   "source": [
    "## Where is there high lead?\n",
    "\n",
    "Elevated lead readings are occurring throughout the city. They appear to be quite geographically diverse. A location is determined to have *elevated lead* if the DEQ recorded an amount of 15 parts per  (ppb) in a water sample (using EPA standards). \n",
    "\n",
    "The map below shows all the parcels in the Residential Testing data, displaying low (blue) and elevated (red) lead levels.  "
   ]
  },
  {
   "cell_type": "code",
   "execution_count": 1,
   "metadata": {
    "collapsed": false
   },
   "outputs": [
    {
     "data": {
      "text/html": [
       "\n",
       "        <iframe\n",
       "            width=\"500\"\n",
       "            height=\"500\"\n",
       "            src=\"http://web.eecs.umich.edu/~jabernet/FlintWater/all_residential_lead_readings.html\"\n",
       "            frameborder=\"0\"\n",
       "            allowfullscreen\n",
       "        ></iframe>\n",
       "        "
      ],
      "text/plain": [
       "<IPython.lib.display.IFrame at 0x1038b8d90>"
      ]
     },
     "execution_count": 1,
     "metadata": {},
     "output_type": "execute_result"
    }
   ],
   "source": [
    "from IPython.display import IFrame\n",
    "IFrame('http://web.eecs.umich.edu/~jabernet/FlintWater/all_residential_lead_readings.html',width=500, height=500)"
   ]
  },
  {
   "cell_type": "markdown",
   "metadata": {},
   "source": [
    "## Elevated lead levels are less than 9% of samples\n",
    "\n",
    "* High lead levels (greater than 15 ppb) are 8.3% of the samples.\n",
    "* Dangerous lead levels (greater than 50 ppb) make up 3.1% of the data.\n",
    "* Very dangerous lead levels (greater than 150 ppb) make up 1.2% of samples.\n",
    "* The required 90% of the readings are 12 ppb or less.\n",
    "\n",
    "\n",
    "<img src=\"../Images/lead_histogram.png\" width=600px style=\"margin:0\">\n"
   ]
  },
  {
   "cell_type": "markdown",
   "metadata": {},
   "source": [
    "## Note about data sources\n",
    "\n",
    "Much attention focuses on data with fewer than 700 houses sampled repeatedly (Sentinel Site data). But we are using more than 8,000 unique houses contributing over 15,000 total samples (Residential Testing data).\n",
    "There’s more value in that data than currently. That’s what we will explore here. Which homes are at most risk? \n",
    "Thanks to the wide range of types of properties, geographic areas, and lead levels, we can answer these key questions about what helps predict lead."
   ]
  },
  {
   "cell_type": "markdown",
   "metadata": {},
   "source": [
    "## What helps us predict lead? \n",
    "\n",
    "The lead readings are known to be highly variable and depend on a number of factors including the way the test was conducted, the time of the day, and the number of hours during which water sat idle in the pipes. The factors that we focus on are the attributes of the property, including the age of construction, condition of the property, when in 2015-16 the sample was taken, and material of service line pipe connecting house plumbing to street pipes.\n",
    "\n",
    "There seem to be lots of relevant factors. The *Property Age* seems to be very important."
   ]
  },
  {
   "cell_type": "markdown",
   "metadata": {},
   "source": [
    "## Important variable: the age of the property\n",
    "\n",
    "We observed that one attribute of the parcel that is strongly correlated with lead levels is the **year during which the property was built**. There is a sharp decline for more buildings built after 1950: for those built in 1950 or before, 10% of readings are above 15 ppb compared to only 6% of the younger properties.\n",
    "\n",
    "<img src=\"../Images/lead_by_yearbuilt_residential_tests_annotate.png\" width=600px style=\"margin:0\">\n",
    "\n",
    "The points in the plot reveal when most of Flint construction occurred (Note the decrease during the Great Depression in 1930s). The line shows the average predicted lead level. "
   ]
  },
  {
   "cell_type": "markdown",
   "metadata": {},
   "source": [
    "## How do lead service lines affect elevated lead readings?\n",
    "\n",
    "The lead service lines play a role, but not as much as you would think. We still see high lead readings even when a property's service lines are made of copper, zinc, and other materials.\n",
    " \n",
    "* 8% of all service lines are lead (lead only or lead mixture)\n",
    "* 23% are unknown material\n",
    "\n",
    "\n",
    "### Interactive map of high lead readings for homes with various service line types"
   ]
  },
  {
   "cell_type": "code",
   "execution_count": 2,
   "metadata": {
    "collapsed": false,
    "scrolled": false
   },
   "outputs": [
    {
     "data": {
      "text/html": [
       "\n",
       "        <iframe\n",
       "            width=\"500\"\n",
       "            height=\"500\"\n",
       "            src=\"http://web.eecs.umich.edu/~jabernet/FlintWater/service_line.html\"\n",
       "            frameborder=\"0\"\n",
       "            allowfullscreen\n",
       "        ></iframe>\n",
       "        "
      ],
      "text/plain": [
       "<IPython.lib.display.IFrame at 0x1038da210>"
      ]
     },
     "execution_count": 2,
     "metadata": {},
     "output_type": "execute_result"
    }
   ],
   "source": [
    "IFrame('http://web.eecs.umich.edu/~jabernet/FlintWater/service_line.html', width=500, height=500)"
   ]
  },
  {
   "cell_type": "markdown",
   "metadata": {},
   "source": [
    "## Can we predict high lead levels?\n",
    "\n",
    "We have data for over 8,000 properties, but there are over 50,000 parcels in Flint. Which of the not-yet-tested properties are at risk?\n",
    "\n",
    "We apply various learning algorithms to the data and predict where we think elevated lead levels might be found. Here are the locations of those properties where our model suggests elevated lead (> 15 parts ber billion) is most likely.\n"
   ]
  },
  {
   "cell_type": "markdown",
   "metadata": {},
   "source": [
    "### Interactive map of **predicted** locations of elevated lead"
   ]
  },
  {
   "cell_type": "code",
   "execution_count": 3,
   "metadata": {
    "collapsed": false,
    "scrolled": false
   },
   "outputs": [
    {
     "data": {
      "text/html": [
       "\n",
       "        <iframe\n",
       "            width=\"500\"\n",
       "            height=\"500\"\n",
       "            src=\"http://web.eecs.umich.edu/~jabernet/FlintWater/significant_risk_houses.html\"\n",
       "            frameborder=\"0\"\n",
       "            allowfullscreen\n",
       "        ></iframe>\n",
       "        "
      ],
      "text/plain": [
       "<IPython.lib.display.IFrame at 0x1038da3d0>"
      ]
     },
     "execution_count": 3,
     "metadata": {},
     "output_type": "execute_result"
    }
   ],
   "source": [
    "IFrame('http://web.eecs.umich.edu/~jabernet/FlintWater/significant_risk_houses.html', width=500, height=500)"
   ]
  },
  {
   "cell_type": "markdown",
   "metadata": {},
   "source": [
    "## Who are we? Some photos of the Flint Data Dive!"
   ]
  },
  {
   "cell_type": "markdown",
   "metadata": {},
   "source": [
    "<img src=\"../Images/IMG_5718.jpg\" width=400px>\n",
    "<img src=\"../Images/IMG_5709.jpg\" width=400px>"
   ]
  }
 ],
 "metadata": {
  "kernelspec": {
   "display_name": "Python 2",
   "language": "python",
   "name": "python2"
  },
  "language_info": {
   "codemirror_mode": {
    "name": "ipython",
    "version": 2
   },
   "file_extension": ".py",
   "mimetype": "text/x-python",
   "name": "python",
   "nbconvert_exporter": "python",
   "pygments_lexer": "ipython2",
   "version": "2.7.11"
  }
 },
 "nbformat": 4,
 "nbformat_minor": 0
}
