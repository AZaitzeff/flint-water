{
 "cells": [
  {
   "cell_type": "code",
   "execution_count": 1,
   "metadata": {
    "collapsed": false
   },
   "outputs": [
    {
     "name": "stdout",
     "output_type": "stream",
     "text": [
      "Populating the interactive namespace from numpy and matplotlib\n"
     ]
    }
   ],
   "source": [
    "import pandas as pd\n",
    "import numpy as np\n",
    "import seaborn as sns\n",
    "%pylab inline\n"
   ]
  },
  {
   "cell_type": "code",
   "execution_count": 2,
   "metadata": {
    "collapsed": true
   },
   "outputs": [],
   "source": [
    "df = pd.read_csv('parcel_geo_data_with_SL_types_with_predictions.csv')"
   ]
  },
  {
   "cell_type": "code",
   "execution_count": 3,
   "metadata": {
    "collapsed": false
   },
   "outputs": [
    {
     "data": {
      "text/plain": [
       "Index([u'Unnamed: 0', u'PID Dash', u'PID no Dash', u'Property Address',\n",
       "       u'Property Zip Code', u'Owner Type', u'Owner Name', u'Owner Address',\n",
       "       u'Owner Zip Code', u'Owner City', u'Owner State', u'Owner Country',\n",
       "       u'Tax Payer Name', u'Tax Payer Address', u'Tax Payer State',\n",
       "       u'Tax Payer Zip Code', u'Homestead', u'Homestead Percent', u'HomeSEV',\n",
       "       u'Land Value', u'Land Improvements Value',\n",
       "       u'Residential Building Value', u'Residential Building Style',\n",
       "       u'Commercial Building Value', u'Building Storeys', u'Parcel Acres',\n",
       "       u'Rental', u'Use Type', u'Prop Class', u'Old Prop class', u'Year Built',\n",
       "       u'USPS Vacancy', u'Zoning', u'Future Landuse', u'DRAFT Zone',\n",
       "       u'Housing Condition 2012', u'Housing Condition 2014',\n",
       "       u'Commercial Condition 2013', u'Latitude', u'Longitude',\n",
       "       u'goog_address', u'Hydrant Type', u'PIDdash', u'SL_Type', u'SL_Type2',\n",
       "       u'SL_Lead', u'Ward', u'PRECINCT', u'CENTRACT', u'CENBLOCK', u'Class',\n",
       "       u'Year_Built', u'Acres', u'Street Name', u'predicted'],\n",
       "      dtype='object')"
      ]
     },
     "execution_count": 3,
     "metadata": {},
     "output_type": "execute_result"
    }
   ],
   "source": [
    "df.columns"
   ]
  },
  {
   "cell_type": "code",
   "execution_count": 4,
   "metadata": {
    "collapsed": false
   },
   "outputs": [
    {
     "data": {
      "text/plain": [
       "0        0.732083\n",
       "1        0.898555\n",
       "2        0.922971\n",
       "3        0.928044\n",
       "4        0.912625\n",
       "5        0.922134\n",
       "6        0.922973\n",
       "7        0.924261\n",
       "8        0.913142\n",
       "9        0.983060\n",
       "10       0.911857\n",
       "11       0.936883\n",
       "12       0.983060\n",
       "13       0.967153\n",
       "14       0.381967\n",
       "15       0.981872\n",
       "16       0.946191\n",
       "17       0.000715\n",
       "18       0.018669\n",
       "19       0.018669\n",
       "20       0.018669\n",
       "21       0.905792\n",
       "22       0.973607\n",
       "23       0.919596\n",
       "24       0.974768\n",
       "25       0.956686\n",
       "26       0.002092\n",
       "27       0.835955\n",
       "28       0.962712\n",
       "29       0.924892\n",
       "           ...   \n",
       "56009    0.890608\n",
       "56010    0.894253\n",
       "56011    0.944808\n",
       "56012    0.995302\n",
       "56013    0.949131\n",
       "56014    0.921046\n",
       "56015    0.994431\n",
       "56016    0.947484\n",
       "56017    0.954266\n",
       "56018    0.992412\n",
       "56019    0.957315\n",
       "56020    0.000238\n",
       "56021    0.982876\n",
       "56022    0.077215\n",
       "56023    0.975481\n",
       "56024    0.002046\n",
       "56025    0.001687\n",
       "56026    0.960338\n",
       "56027    0.666408\n",
       "56028    0.967747\n",
       "56029    0.972612\n",
       "56030    0.014584\n",
       "56031    0.985273\n",
       "56032    0.004670\n",
       "56033    0.997188\n",
       "56034    0.964082\n",
       "56035    0.050131\n",
       "56036    0.990252\n",
       "56037    0.999347\n",
       "56038    0.990252\n",
       "Name: predicted, dtype: float64"
      ]
     },
     "execution_count": 4,
     "metadata": {},
     "output_type": "execute_result"
    }
   ],
   "source": [
    "df.predicted"
   ]
  },
  {
   "cell_type": "code",
   "execution_count": 5,
   "metadata": {
    "collapsed": false
   },
   "outputs": [
    {
     "data": {
      "text/plain": [
       "<matplotlib.axes._subplots.AxesSubplot at 0x114a72b90>"
      ]
     },
     "execution_count": 5,
     "metadata": {},
     "output_type": "execute_result"
    },
    {
     "data": {
      "image/png": "[encoded data removed]",
      "text/plain": [
       "<matplotlib.figure.Figure at 0x1038b3350>"
      ]
     },
     "metadata": {},
     "output_type": "display_data"
    }
   ],
   "source": [
    "df.predicted.hist()"
   ]
  },
  {
   "cell_type": "code",
   "execution_count": 6,
   "metadata": {
    "collapsed": true
   },
   "outputs": [],
   "source": [
    "rtd = pd.read_csv(\"../Data/residential_test_data.csv\")"
   ]
  },
  {
   "cell_type": "code",
   "execution_count": 9,
   "metadata": {
    "collapsed": false
   },
   "outputs": [],
   "source": [
    "df.set_index('PID Dash',inplace=True)"
   ]
  },
  {
   "cell_type": "code",
   "execution_count": 11,
   "metadata": {
    "collapsed": false
   },
   "outputs": [
    {
     "data": {
      "text/plain": [
       "0        0.100046\n",
       "1        0.103139\n",
       "2        0.059277\n",
       "3        0.059277\n",
       "4        0.059277\n",
       "5        0.268508\n",
       "6        0.268508\n",
       "7        0.100020\n",
       "8        0.099279\n",
       "9        0.099279\n",
       "10       0.119568\n",
       "11       0.119568\n",
       "12       0.120816\n",
       "13       0.123788\n",
       "14       0.110339\n",
       "15       0.120109\n",
       "16       0.126288\n",
       "17       0.128059\n",
       "18       0.119706\n",
       "19       0.119706\n",
       "20       0.126210\n",
       "21       0.124826\n",
       "22       0.123383\n",
       "23       0.122133\n",
       "24       0.091992\n",
       "25       0.424317\n",
       "26       0.148003\n",
       "27       0.071908\n",
       "28       0.066894\n",
       "29       0.081279\n",
       "           ...   \n",
       "15495    0.093952\n",
       "15496    0.093952\n",
       "15497    0.109318\n",
       "15498    0.109318\n",
       "15499    0.109318\n",
       "15500    0.581845\n",
       "15501    0.162900\n",
       "15502    0.162900\n",
       "15503    0.120320\n",
       "15504    0.139448\n",
       "15505    0.139448\n",
       "15506    0.139448\n",
       "15507    0.139448\n",
       "15508    0.095871\n",
       "15509    0.366115\n",
       "15510    0.094466\n",
       "15511    0.100934\n",
       "15512    0.168481\n",
       "15513    0.090512\n",
       "15514    0.081640\n",
       "15515    0.111954\n",
       "15516    0.174935\n",
       "15517    0.098605\n",
       "15518    0.127408\n",
       "15519    0.176365\n",
       "15520    0.083256\n",
       "15521    0.120455\n",
       "15522    0.174260\n",
       "15523    0.163829\n",
       "15524    0.077715\n",
       "Name: PID Dash, dtype: float64"
      ]
     },
     "execution_count": 11,
     "metadata": {},
     "output_type": "execute_result"
    }
   ],
   "source": [
    "rtd['PID Dash'].map(df.Acres)"
   ]
  },
  {
   "cell_type": "code",
   "execution_count": null,
   "metadata": {
    "collapsed": true
   },
   "outputs": [],
   "source": []
  }
 ],
 "metadata": {
  "kernelspec": {
   "display_name": "Python 2",
   "language": "python",
   "name": "python2"
  },
  "language_info": {
   "codemirror_mode": {
    "name": "ipython",
    "version": 2
   },
   "file_extension": ".py",
   "mimetype": "text/x-python",
   "name": "python",
   "nbconvert_exporter": "python",
   "pygments_lexer": "ipython2",
   "version": "2.7.11"
  }
 },
 "nbformat": 4,
 "nbformat_minor": 0
}
