{
 "cells": [
  {
   "cell_type": "markdown",
   "metadata": {},
   "source": [
    "<script>\n",
    "    var code_show=true; //true -> hide code at first\n",
    "\n",
    "    function code_toggle() {\n",
    "        $('div.prompt').hide(); // always hide prompt\n",
    "\n",
    "        if (code_show){\n",
    "            $('div.input').hide();\n",
    "        } else {\n",
    "            $('div.input').show();\n",
    "        }\n",
    "        code_show = !code_show\n",
    "    }\n",
    "    $( document ).ready(code_toggle);\n",
    "</script>"
   ]
  },
  {
   "cell_type": "code",
   "execution_count": 1,
   "metadata": {
    "collapsed": true
   },
   "outputs": [],
   "source": [
    "import pandas as pd\n",
    "import json"
   ]
  },
  {
   "cell_type": "markdown",
   "metadata": {},
   "source": [
    "<a href=\"javascript:code_toggle()\">[Toggle Code]</a>"
   ]
  },
  {
   "cell_type": "markdown",
   "metadata": {},
   "source": [
    "# This is some text"
   ]
  },
  {
   "cell_type": "code",
   "execution_count": 2,
   "metadata": {
    "collapsed": true
   },
   "outputs": [],
   "source": [
    "df = pd.read_csv('submission_xgb.csv')"
   ]
  },
  {
   "cell_type": "code",
   "execution_count": 5,
   "metadata": {
    "collapsed": true
   },
   "outputs": [],
   "source": [
    "df.sort_values('predicted',inplace=True,ascending=False)"
   ]
  },
  {
   "cell_type": "code",
   "execution_count": 7,
   "metadata": {
    "collapsed": false,
    "scrolled": true
   },
   "outputs": [
    {
     "data": {
      "text/plain": [
       "Index([u'Unnamed: 0', u'PID Dash', u'PID no Dash', u'Property Address',\n",
       "       u'Property Zip Code', u'Owner Type', u'Owner Name', u'Owner Address',\n",
       "       u'Owner Zip Code', u'Owner City', u'Owner State', u'Owner Country',\n",
       "       u'Tax Payer Name', u'Tax Payer Address', u'Tax Payer State',\n",
       "       u'Tax Payer Zip Code', u'Homestead', u'Homestead Percent', u'HomeSEV',\n",
       "       u'Land Value', u'Land Improvements Value',\n",
       "       u'Residential Building Value', u'Residential Building Style',\n",
       "       u'Commercial Building Value', u'Building Storeys', u'Parcel Acres',\n",
       "       u'Rental', u'Use Type', u'Prop Class', u'Old Prop class', u'Year Built',\n",
       "       u'USPS Vacancy', u'Zoning', u'Future Landuse', u'DRAFT Zone',\n",
       "       u'Housing Condition 2012', u'Housing Condition 2014',\n",
       "       u'Commercial Condition 2013', u'Latitude', u'Longitude',\n",
       "       u'goog_address', u'Hydrant Type', u'PIDdash', u'SL_Type', u'SL_Type2',\n",
       "       u'SL_Lead', u'Ward', u'PRECINCT', u'CENTRACT', u'CENBLOCK', u'Class',\n",
       "       u'Year_Built', u'Acres', u'Street Name', u'predicted'],\n",
       "      dtype='object')"
      ]
     },
     "execution_count": 7,
     "metadata": {},
     "output_type": "execute_result"
    }
   ],
   "source": [
    "df.columns"
   ]
  },
  {
   "cell_type": "code",
   "execution_count": 21,
   "metadata": {
    "collapsed": false
   },
   "outputs": [
    {
     "name": "stdout",
     "output_type": "stream",
     "text": [
      "/Users/jake/Dropbox/VC/umflint\n"
     ]
    }
   ],
   "source": [
    "cd ~/vc/umflint/"
   ]
  },
  {
   "cell_type": "code",
   "execution_count": 23,
   "metadata": {
    "collapsed": false
   },
   "outputs": [],
   "source": [
    "dfs = df.iloc[:1000].copy()\n",
    "mgd = pd.DataFrame(index=dfs.index)\n",
    "mgd['latitude'] = dfs.Latitude\n",
    "mgd['longitude'] = dfs.Longitude\n",
    "mgd['color'] = 'orange'\n",
    "mgd['text'] = 'Significant risk of lead > 15 ppb'\n",
    "mgd['radius'] = 50\n",
    "f = open('predictions.json','w+')\n",
    "f.write(\"data = \")\n",
    "json.dump(mgd.T.to_dict().values(), f)\n",
    "f.close()"
   ]
  },
  {
   "cell_type": "code",
   "execution_count": 19,
   "metadata": {
    "collapsed": false
   },
   "outputs": [
    {
     "data": {
      "text/plain": [
       "(1000, 5)"
      ]
     },
     "execution_count": 19,
     "metadata": {},
     "output_type": "execute_result"
    }
   ],
   "source": [
    "mgd.shape"
   ]
  },
  {
   "cell_type": "code",
   "execution_count": 20,
   "metadata": {
    "collapsed": false
   },
   "outputs": [
    {
     "data": {
      "text/plain": [
       "(1000, 55)"
      ]
     },
     "execution_count": 20,
     "metadata": {},
     "output_type": "execute_result"
    }
   ],
   "source": [
    "df.iloc[:1000].shape"
   ]
  },
  {
   "cell_type": "code",
   "execution_count": null,
   "metadata": {
    "collapsed": true
   },
   "outputs": [],
   "source": []
  }
 ],
 "metadata": {
  "kernelspec": {
   "display_name": "Python 2",
   "language": "python",
   "name": "python2"
  },
  "language_info": {
   "codemirror_mode": {
    "name": "ipython",
    "version": 2
   },
   "file_extension": ".py",
   "mimetype": "text/x-python",
   "name": "python",
   "nbconvert_exporter": "python",
   "pygments_lexer": "ipython2",
   "version": "2.7.11"
  }
 },
 "nbformat": 4,
 "nbformat_minor": 0
}
